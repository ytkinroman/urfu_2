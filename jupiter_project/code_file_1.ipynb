{
 "cells": [
  {
   "cell_type": "code",
   "execution_count": 7,
   "id": "37a8c90f-ed94-4b58-8e2a-0f1cac6ecb6f",
   "metadata": {},
   "outputs": [],
   "source": [
    "import gspread\n",
    "import numpy as np"
   ]
  },
  {
   "cell_type": "code",
   "execution_count": 8,
   "id": "4931d90b-a52d-420b-a375-c002239be136",
   "metadata": {},
   "outputs": [],
   "source": [
    "gc = gspread.service_account(filename=\"unitydatascience-437215-33c36e26e378.json\")\n",
    "sh = gc.open(\"UnityWorkshop2\")\n",
    "sheet = sh.sheet1"
   ]
  },
  {
   "cell_type": "code",
   "execution_count": 18,
   "id": "f6b6a962-8752-4a66-883c-a538396a90d4",
   "metadata": {},
   "outputs": [],
   "source": [
    "values = list(range(1, 21))\n",
    "thirty = [7] * 20 \n",
    "random_values = np.random.randint(1, 4, 20)\n",
    "random_values = [int(value) for value in random_values]"
   ]
  },
  {
   "cell_type": "code",
   "execution_count": 20,
   "id": "95cdbd55-0d3e-4601-9969-56acb2cd544a",
   "metadata": {},
   "outputs": [
    {
     "name": "stdout",
     "output_type": "stream",
     "text": [
      "1 | 7 | 2\n",
      "2 | 7 | 3\n",
      "3 | 7 | 2\n",
      "4 | 7 | 1\n",
      "5 | 7 | 3\n",
      "6 | 7 | 1\n",
      "7 | 7 | 1\n",
      "8 | 7 | 1\n",
      "9 | 7 | 1\n",
      "10 | 7 | 2\n",
      "11 | 7 | 2\n",
      "12 | 7 | 3\n",
      "13 | 7 | 3\n",
      "14 | 7 | 3\n",
      "15 | 7 | 3\n",
      "16 | 7 | 1\n",
      "17 | 7 | 1\n",
      "18 | 7 | 2\n",
      "19 | 7 | 3\n",
      "20 | 7 | 2\n"
     ]
    }
   ],
   "source": [
    "for i in range(1, 21):\n",
    "    sheet.update_cell(i, 1, values[i-1])\n",
    "    sheet.update_cell(i, 2, thirty[i-1])\n",
    "    sheet.update_cell(i, 3, random_values[i-1])\n",
    "    \n",
    "    print(f\"{values[i-1]} | {thirty[i-1]} | {random_values[i-1]}\")\n",
    "    "
   ]
  },
  {
   "cell_type": "code",
   "execution_count": null,
   "id": "32a01d43-e0f3-44b0-b972-1f47244b054b",
   "metadata": {},
   "outputs": [],
   "source": []
  }
 ],
 "metadata": {
  "kernelspec": {
   "display_name": "Python 3 (ipykernel)",
   "language": "python",
   "name": "python3"
  },
  "language_info": {
   "codemirror_mode": {
    "name": "ipython",
    "version": 3
   },
   "file_extension": ".py",
   "mimetype": "text/x-python",
   "name": "python",
   "nbconvert_exporter": "python",
   "pygments_lexer": "ipython3",
   "version": "3.12.5"
  }
 },
 "nbformat": 4,
 "nbformat_minor": 5
}
